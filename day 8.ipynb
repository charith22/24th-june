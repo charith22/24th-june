{
 "cells": [
  {
   "cell_type": "code",
   "execution_count": 7,
   "metadata": {},
   "outputs": [
    {
     "name": "stdout",
     "output_type": "stream",
     "text": [
      "item found\n"
     ]
    }
   ],
   "source": [
    "def bs(a,li,ri,s):\n",
    "    while(li<=ri):\n",
    "        mi=li+((ri-li)//2)\n",
    "        if(a[mi]==s):\n",
    "            return mi\n",
    "        if(a[mi]>s):\n",
    "            ri=mi-1\n",
    "        else:\n",
    "            li=mi+1\n",
    "    return -1\n",
    "a=[1,2,3,4,5,6,7,8,9,10,22]\n",
    "res=bs(a,0,10,22)\n",
    "if(res!=-1):\n",
    "    print(\"item found\")\n",
    "else:\n",
    "    print(\"item not found\")\n",
    "    "
   ]
  },
  {
   "cell_type": "code",
   "execution_count": 26,
   "metadata": {},
   "outputs": [
    {
     "name": "stdout",
     "output_type": "stream",
     "text": [
      "application\n",
      "application\n",
      "application list working python\n",
      "str[0]= a\n",
      "ppli\n",
      "acn\n",
      "noitacilppa\n",
      "plicati\n",
      "applica\n"
     ]
    }
   ],
   "source": [
    "str=\"application\"\n",
    "print(str)\n",
    "\n",
    "str1='application'\n",
    "print(str1)\n",
    "str2=\"\"\"application list working python\"\"\"\n",
    "print(str2)\n",
    "print(\"str[0]=\",str[0])\n",
    "print(str[1:5])\n",
    "print(str[::5])\n",
    "print(str[::-1])\n",
    "print(str[2:-2])\n",
    "print(str[:7])"
   ]
  },
  {
   "cell_type": "code",
   "execution_count": 25,
   "metadata": {},
   "outputs": [
    {
     "name": "stdout",
     "output_type": "stream",
     "text": [
      "1 3 5 18 222 333 "
     ]
    }
   ],
   "source": [
    "def bubblesort(a):\n",
    "    for i in range(len(a)-1):\n",
    "         for j in range(len(a)-1):\n",
    "                if a[j]>a[j+1]:\n",
    "                    a[j],a[j+1]=a[j+1],a[j]\n",
    "    for i in range(len(a)):\n",
    "        print(a[i],end=\" \")\n",
    "list2=[18,3,333,5,222,1]\n",
    "bubblesort(list2)\n",
    "\n"
   ]
  },
  {
   "cell_type": "code",
   "execution_count": 48,
   "metadata": {},
   "outputs": [
    {
     "name": "stdout",
     "output_type": "stream",
     "text": [
      "True\n"
     ]
    }
   ],
   "source": [
    "s='chinmay'\n",
    "# print(s[:]==s)\n",
    "# s[:]is s\n",
    "print(s[::-1][::-1] == s)"
   ]
  },
  {
   "cell_type": "code",
   "execution_count": 35,
   "metadata": {},
   "outputs": [
    {
     "name": "stdout",
     "output_type": "stream",
     "text": [
      "False\n",
      "False\n",
      "False\n",
      "True\n"
     ]
    }
   ],
   "source": [
    "def ispalindrome(s):\n",
    "    if s==s[::-1]:\n",
    "        return True\n",
    "    else:\n",
    "        return False\n",
    "print(ispalindrome(\"python\"))\n",
    "print(ispalindrome(\"charith\"))\n",
    "print(ispalindrome(\"AC\"))\n",
    "print(ispalindrome(\"AA\"))"
   ]
  },
  {
   "cell_type": "code",
   "execution_count": 36,
   "metadata": {},
   "outputs": [
    {
     "name": "stdout",
     "output_type": "stream",
     "text": [
      "enter a number56\n",
      "2\n"
     ]
    }
   ],
   "source": [
    "n=int(input(\"enter a number\"))\n",
    "cnt=0\n",
    "while n!=0:\n",
    "    cnt=cnt+1\n",
    "    n=n//10\n",
    "print(cnt)   "
   ]
  },
  {
   "cell_type": "code",
   "execution_count": 44,
   "metadata": {},
   "outputs": [
    {
     "data": {
      "text/plain": [
       "7"
      ]
     },
     "execution_count": 44,
     "metadata": {},
     "output_type": "execute_result"
    }
   ],
   "source": [
    "def countchar(str):\n",
    "    return len(str)\n",
    "countchar(\"charith\")\n"
   ]
  },
  {
   "cell_type": "code",
   "execution_count": 56,
   "metadata": {},
   "outputs": [
    {
     "name": "stdout",
     "output_type": "stream",
     "text": [
      "2\n"
     ]
    }
   ],
   "source": [
    "def count1(a,s):\n",
    "    a=a.lower()\n",
    "    count=0\n",
    "    i=0\n",
    "    while (i!= (len(a)-1)):\n",
    "        if(a[i]==s):\n",
    "            count=count+1\n",
    "        i=i+1\n",
    "    return(count)\n",
    "\n",
    "print(count1('CHARITH2','h'))"
   ]
  },
  {
   "cell_type": "code",
   "execution_count": 3,
   "metadata": {},
   "outputs": [
    {
     "name": "stdout",
     "output_type": "stream",
     "text": [
      "1\n",
      "5\n"
     ]
    }
   ],
   "source": [
    "def upc(a):\n",
    "    c=0\n",
    "    l=list(a)\n",
    "    for i in range(len(l)):\n",
    "        if(ord(l[i])>=65 and ord(l[i])<=90):\n",
    "            c=c+1\n",
    "    return c\n",
    "print(upc(\"Charith\"))\n",
    "print(upc(\"APPLE\"))\n",
    "\n",
    "\n"
   ]
  },
  {
   "cell_type": "code",
   "execution_count": 13,
   "metadata": {},
   "outputs": [
    {
     "name": "stdout",
     "output_type": "stream",
     "text": [
      "1 2 3 4 "
     ]
    }
   ],
   "source": [
    "def pr(a):\n",
    "    l=list(a)\n",
    "    for i in range(len(l)):\n",
    "        if(ord(l[i])>=48 and ord(l[i])<=57):\n",
    "            print(l[i],end=\" \")\n",
    "        \n",
    "            \n",
    "            \n",
    "    \n",
    "\n",
    "(pr(\"app1234\"))\n",
    "    "
   ]
  },
  {
   "cell_type": "code",
   "execution_count": 48,
   "metadata": {},
   "outputs": [
    {
     "name": "stdout",
     "output_type": "stream",
     "text": [
      "2\n"
     ]
    }
   ],
   "source": [
    "def pr(a):\n",
    "    l=list(a)\n",
    "    sum=0\n",
    "    for i in range(len(l)):\n",
    "        \n",
    "            if(ord(l[i])>=48 and ord(l[i])<=57):\n",
    "                a=int(l[i])\n",
    "                if(a%2==0):\n",
    "                    sum=sum + a\n",
    "                \n",
    "    print(sum)\n",
    "            \n",
    "            \n",
    "    \n",
    "\n",
    "pr(\"h20\")\n",
    "    "
   ]
  },
  {
   "cell_type": "code",
   "execution_count": null,
   "metadata": {},
   "outputs": [],
   "source": [
    "def upc1(a):\n",
    "    c=0\n",
    "    l=list(a)\n",
    "    for i in range(len(l)):\n",
    "        if(ord(l[i])>=65 and ord(l[i])<=90):\n",
    "            "
   ]
  },
  {
   "cell_type": "code",
   "execution_count": null,
   "metadata": {},
   "outputs": [],
   "source": []
  }
 ],
 "metadata": {
  "kernelspec": {
   "display_name": "Python 3",
   "language": "python",
   "name": "python3"
  },
  "language_info": {
   "codemirror_mode": {
    "name": "ipython",
    "version": 3
   },
   "file_extension": ".py",
   "mimetype": "text/x-python",
   "name": "python",
   "nbconvert_exporter": "python",
   "pygments_lexer": "ipython3",
   "version": "3.7.3"
  }
 },
 "nbformat": 4,
 "nbformat_minor": 2
}

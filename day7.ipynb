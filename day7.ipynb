{
 "cells": [
  {
   "cell_type": "code",
   "execution_count": 2,
   "metadata": {},
   "outputs": [
    {
     "data": {
      "text/plain": [
       "90"
      ]
     },
     "execution_count": 2,
     "metadata": {},
     "output_type": "execute_result"
    }
   ],
   "source": [
    "def printeven(n):\n",
    "    count=0\n",
    "    sum=0\n",
    "    while(count!=n):\n",
    "        if(count%2==0):\n",
    "            sum=sum+count\n",
    "        count=count+1   \n",
    "    return sum\n",
    "printeven(20)"
   ]
  },
  {
   "cell_type": "code",
   "execution_count": 9,
   "metadata": {},
   "outputs": [
    {
     "name": "stdout",
     "output_type": "stream",
     "text": [
      "1 2 11 "
     ]
    },
    {
     "data": {
      "text/plain": [
       "22"
      ]
     },
     "execution_count": 9,
     "metadata": {},
     "output_type": "execute_result"
    }
   ],
   "source": [
    "def factor(n):\n",
    "    i=1\n",
    "    while(i!=n):\n",
    "        if(n%i==0):\n",
    "            print(i,end=\" \")\n",
    "        i=i+1\n",
    "    return i\n",
    "\n",
    "factor(22)    \n",
    "    \n"
   ]
  },
  {
   "cell_type": "code",
   "execution_count": 11,
   "metadata": {},
   "outputs": [
    {
     "name": "stdout",
     "output_type": "stream",
     "text": [
      "[1, 2, 3, 4, 5]\n",
      "4\n"
     ]
    }
   ],
   "source": [
    "list1=[1,2,3,4,5]\n",
    "print(list1)\n",
    "print(list1[3])"
   ]
  },
  {
   "cell_type": "code",
   "execution_count": 12,
   "metadata": {},
   "outputs": [
    {
     "name": "stdout",
     "output_type": "stream",
     "text": [
      "a b c "
     ]
    }
   ],
   "source": [
    "list2=[\"a\",\"b\",\"c\"]\n",
    "for i in list2:\n",
    "    print(i,end=\" \")"
   ]
  },
  {
   "cell_type": "code",
   "execution_count": 21,
   "metadata": {},
   "outputs": [
    {
     "name": "stdout",
     "output_type": "stream",
     "text": [
      "a b c 1 2 3 4 5 6 \n",
      "2\n",
      "[3, 4, 5, 6]\n",
      "['a', 'b', 'c', 1, 2]\n",
      "[]\n"
     ]
    }
   ],
   "source": [
    "list3=[\"a\",\"b\",\"c\",1,2,3,4,5,6]\n",
    "for i in list3:\n",
    "    print(i,end=\" \")\n",
    "print()\n",
    "print(list3[4])\n",
    "print(list3[5:11])\n",
    "print(list3[:5])\n",
    "print(list3[11:])\n"
   ]
  },
  {
   "cell_type": "code",
   "execution_count": 27,
   "metadata": {},
   "outputs": [
    {
     "name": "stdout",
     "output_type": "stream",
     "text": [
      "a b c 1 2 3 4 5 6 \n",
      "['b', 'c', 1, 2, 3, 4]\n",
      "['c', 1, 2, 3, 4]\n",
      "[1, 2, 3, 4]\n",
      "[]\n",
      "['a', 6]\n"
     ]
    }
   ],
   "source": [
    "list4=[\"a\",\"b\",\"c\",1,2,3,4,5,6]\n",
    "for i in list4:\n",
    "    print(i,end=\" \")\n",
    "print()\n",
    "print(list4[1:-2])\n",
    "print(list4[2:-2])\n",
    "print(list4[3:-2])\n",
    "print(list4[8:-8])\n",
    "print(list4[::8])\n",
    "    "
   ]
  },
  {
   "cell_type": "code",
   "execution_count": 56,
   "metadata": {},
   "outputs": [
    {
     "name": "stdout",
     "output_type": "stream",
     "text": [
      "['a', 'b', 'c', 1, 2, 3, 4, 5, 6, 'dao']\n",
      "\n",
      "['a', 'b', 'c', 1, 2, 22, 4, 5, 6, 'dao']\n",
      "['a', 'b', 'c', 1, 2, 22, 4, 6, 'dao']\n",
      "['a', 'b', 'c', 1, 2, 22, 4, 22, 'dao']\n",
      "[33, 44, 55, 66]\n",
      "['a', 'b', 'c', 1, 2, 22, 4, 22, 'dao', 33, 44, 55, 66]\n",
      "['a', 'b', 'c', 1, 2, 22, 4, 22, 'dao', 44]\n",
      "2\n",
      "0\n",
      "[]\n",
      "1\n",
      "6\n",
      "['a', 'b', 'c', 1, 'ac', 2, 22, 4, 22, 'dao', 44]\n",
      "['a', 'b', 'c', 1, 'ac', 2, 22, 4, 22, 44]\n",
      "[66, 55, 44, 33]\n"
     ]
    }
   ],
   "source": [
    "list5=[\"a\",\"b\",\"c\",1,2,3,4,5,6,\"dao\"]\n",
    "print(list5)\n",
    "print()\n",
    "list5[5]=22\n",
    "print(list5)\n",
    "del list5[7]\n",
    "print(list5)\n",
    "list5[7]=22\n",
    "print(list5)\n",
    "list6=[33,44,55,66]\n",
    "print(list6)\n",
    "print(list5+list6)\n",
    "list5.append(44)\n",
    "print(list5)\n",
    "print(list5.count(22))\n",
    "print(list5.count(100))\n",
    "print(list5[-1:-1])\n",
    "print(list5.index(\"b\"))\n",
    "print(list5.index(4))\n",
    "list5.insert(4,\"ac\")\n",
    "print(list5)\n",
    "list5.remove(\"dao\")\n",
    "print(list5)\n",
    "list6.reverse()\n",
    "print(list6)\n"
   ]
  },
  {
   "cell_type": "markdown",
   "metadata": {},
   "source": [
    "## linear search"
   ]
  },
  {
   "cell_type": "code",
   "execution_count": 82,
   "metadata": {},
   "outputs": [
    {
     "name": "stdout",
     "output_type": "stream",
     "text": [
      "element  found\n"
     ]
    }
   ],
   "source": [
    "def ls(n,tar):\n",
    "    flag=0\n",
    "    for i in range(len(n)):\n",
    "        if(n[i]==tar):\n",
    "            flag=1\n",
    "            break\n",
    "    if(flag!=0):    \n",
    "        print(\"element  found\")\n",
    "    else:\n",
    "        print(\"element not found\")\n",
    "            \n",
    "n=[1,2,3,4,5,6,7,8,9]            \n",
    "ls(n,5)        \n",
    "        \n",
    "    \n",
    "\n",
    "\n",
    "\n",
    "\n",
    "\n",
    "\n",
    "\n",
    "\n",
    "\n",
    "\n",
    "\n",
    "\n",
    "\n",
    "\n",
    "\n",
    "\n",
    "\n",
    "\n",
    "\n",
    "\n"
   ]
  },
  {
   "cell_type": "markdown",
   "metadata": {},
   "source": [
    "## duplicate list"
   ]
  },
  {
   "cell_type": "code",
   "execution_count": 90,
   "metadata": {},
   "outputs": [
    {
     "name": "stdout",
     "output_type": "stream",
     "text": [
      "0\n",
      "2\n"
     ]
    }
   ],
   "source": [
    "def dls(n,tar):\n",
    "    flag=0\n",
    "    for i in range(len(n)):\n",
    "        if(n[i]==tar):\n",
    "            flag=flag+1\n",
    "    print(flag)\n",
    "n=[1,2,3,4,5,6,22,22,8,9]\n",
    "dls(n,7)\n",
    "dls(n,22)"
   ]
  },
  {
   "cell_type": "code",
   "execution_count": 93,
   "metadata": {},
   "outputs": [
    {
     "name": "stdout",
     "output_type": "stream",
     "text": [
      "[1, 3, 5, 7, 9]\n"
     ]
    }
   ],
   "source": [
    "a=[1,2,3,4,5,6,7,8,9]\n",
    "print(a[::2])"
   ]
  },
  {
   "cell_type": "code",
   "execution_count": 100,
   "metadata": {},
   "outputs": [
    {
     "name": "stdout",
     "output_type": "stream",
     "text": [
      "1\n",
      "2\n"
     ]
    }
   ],
   "source": [
    "def lse1(a,s):\n",
    "    f=0\n",
    "    for i in range(len(a)):\n",
    "        if(a[i]==s):\n",
    "            f=f+1\n",
    "            print(i)\n",
    "a=[1,2,2,3,4,5]\n",
    "lse1(a,2)"
   ]
  },
  {
   "cell_type": "code",
   "execution_count": 102,
   "metadata": {},
   "outputs": [
    {
     "name": "stdout",
     "output_type": "stream",
     "text": [
      "aaaaaaaaa"
     ]
    }
   ],
   "source": [
    "def lse2(a,s):\n",
    "    f=0\n",
    "    c=0\n",
    "    for i in range(len(a)):\n",
    "        if(a[i]==s):\n",
    "            f=f+1\n",
    "            \n",
    "    while(c<=i):\n",
    "        print(\"a\",end=\"\")\n",
    "        c=c+1\n",
    "a=[1,2,3,4,5,6,7,8,9]\n",
    "lse2(a,4)\n",
    "        \n",
    "            \n",
    "            \n",
    "            "
   ]
  },
  {
   "cell_type": "code",
   "execution_count": 110,
   "metadata": {},
   "outputs": [
    {
     "name": "stdout",
     "output_type": "stream",
     "text": [
      "60\n"
     ]
    }
   ],
   "source": [
    "def lse3(a):\n",
    "    f=0\n",
    "    c=0\n",
    "    for i in range(len(a)):\n",
    "        if(a[i]%3==0):\n",
    "            if(a[i]%5==0):\n",
    "                c=c+a[i]\n",
    "                f=f+1\n",
    "    print(c)\n",
    "a=[1,2,3,4,45,6,7,8,15]\n",
    "lse3(a)"
   ]
  },
  {
   "cell_type": "code",
   "execution_count": 6,
   "metadata": {},
   "outputs": [
    {
     "name": "stdout",
     "output_type": "stream",
     "text": [
      "1 3 8 15 5 "
     ]
    }
   ],
   "source": [
    "def lse4(a):\n",
    "    i=0\n",
    "    \n",
    "    \n",
    "    while((i!=len(a))):\n",
    "        if(a[i]==a[0] or a[i]==a[len(a)-1]):\n",
    "            print(a[i],end=\" \")\n",
    "        \n",
    "        else:\n",
    "        \n",
    "            print((a[i-1]*a[i+1]),end=\" \")\n",
    "        i=i+1\n",
    "           \n",
    "a=[1,2,3,4,5]                \n",
    "lse4(a)        "
   ]
  },
  {
   "cell_type": "code",
   "execution_count": 9,
   "metadata": {},
   "outputs": [
    {
     "name": "stdout",
     "output_type": "stream",
     "text": [
      "even numbers\n",
      "2\n",
      "4\n",
      "6\n",
      "8\n",
      "36\n",
      "odd numbers\n",
      "1\n",
      "3\n",
      "5\n",
      "7\n",
      "9\n",
      "15\n"
     ]
    }
   ],
   "source": [
    "def lse5(a):\n",
    "    print(\"even numbers\")\n",
    "    for i in range(len(a)):\n",
    "        if(a[i]%2==0):\n",
    "            \n",
    "            print(a[i])\n",
    "        i=i+1\n",
    "    print(\"odd numbers\")    \n",
    "    for i in range(len(a)):   \n",
    "        if(a[i]%2!=0):\n",
    "           \n",
    "            print(a[i])\n",
    "        i=i+1\n",
    "a=[1,2,3,4,5,6,7,8,9,15,36]\n",
    "lse5(a)\n",
    "        \n",
    "\n",
    "\n",
    "\n",
    "\n",
    "\n",
    "\n",
    "\n"
   ]
  },
  {
   "cell_type": "code",
   "execution_count": 17,
   "metadata": {},
   "outputs": [
    {
     "name": "stdout",
     "output_type": "stream",
     "text": [
      "1\n",
      "3\n",
      "5\n",
      "7\n",
      "15\n",
      "17\n",
      "22\n"
     ]
    },
    {
     "ename": "IndexError",
     "evalue": "list index out of range",
     "output_type": "error",
     "traceback": [
      "\u001b[1;31m---------------------------------------------------------------------------\u001b[0m",
      "\u001b[1;31mIndexError\u001b[0m                                Traceback (most recent call last)",
      "\u001b[1;32m<ipython-input-17-e1c78b6f67e5>\u001b[0m in \u001b[0;36m<module>\u001b[1;34m\u001b[0m\n\u001b[0;32m      6\u001b[0m                 \u001b[0mi\u001b[0m\u001b[1;33m=\u001b[0m\u001b[0mi\u001b[0m\u001b[1;33m+\u001b[0m\u001b[1;36m1\u001b[0m\u001b[1;33m\u001b[0m\u001b[1;33m\u001b[0m\u001b[0m\n\u001b[0;32m      7\u001b[0m \u001b[0ma\u001b[0m\u001b[1;33m=\u001b[0m\u001b[1;33m[\u001b[0m\u001b[1;36m1\u001b[0m\u001b[1;33m,\u001b[0m\u001b[1;36m2\u001b[0m\u001b[1;33m,\u001b[0m\u001b[1;36m3\u001b[0m\u001b[1;33m,\u001b[0m\u001b[1;36m4\u001b[0m\u001b[1;33m,\u001b[0m\u001b[1;36m5\u001b[0m\u001b[1;33m,\u001b[0m\u001b[1;36m6\u001b[0m\u001b[1;33m,\u001b[0m\u001b[1;36m7\u001b[0m\u001b[1;33m,\u001b[0m\u001b[1;36m8\u001b[0m\u001b[1;33m,\u001b[0m\u001b[1;36m9\u001b[0m\u001b[1;33m,\u001b[0m\u001b[1;36m13\u001b[0m\u001b[1;33m,\u001b[0m\u001b[1;36m14\u001b[0m\u001b[1;33m,\u001b[0m\u001b[1;36m15\u001b[0m\u001b[1;33m,\u001b[0m\u001b[1;36m16\u001b[0m\u001b[1;33m,\u001b[0m\u001b[1;36m17\u001b[0m\u001b[1;33m,\u001b[0m\u001b[1;36m18\u001b[0m\u001b[1;33m,\u001b[0m\u001b[1;36m22\u001b[0m\u001b[1;33m,\u001b[0m\u001b[1;36m24\u001b[0m\u001b[1;33m]\u001b[0m\u001b[1;33m\u001b[0m\u001b[1;33m\u001b[0m\u001b[0m\n\u001b[1;32m----> 8\u001b[1;33m \u001b[0mlse6\u001b[0m\u001b[1;33m(\u001b[0m\u001b[0ma\u001b[0m\u001b[1;33m)\u001b[0m\u001b[1;33m\u001b[0m\u001b[1;33m\u001b[0m\u001b[0m\n\u001b[0m",
      "\u001b[1;32m<ipython-input-17-e1c78b6f67e5>\u001b[0m in \u001b[0;36mlse6\u001b[1;34m(a)\u001b[0m\n\u001b[0;32m      2\u001b[0m \u001b[1;33m\u001b[0m\u001b[0m\n\u001b[0;32m      3\u001b[0m     \u001b[1;32mfor\u001b[0m \u001b[0mi\u001b[0m \u001b[1;32min\u001b[0m \u001b[0mrange\u001b[0m\u001b[1;33m(\u001b[0m\u001b[0mlen\u001b[0m\u001b[1;33m(\u001b[0m\u001b[0ma\u001b[0m\u001b[1;33m)\u001b[0m\u001b[1;33m)\u001b[0m\u001b[1;33m:\u001b[0m\u001b[1;33m\u001b[0m\u001b[1;33m\u001b[0m\u001b[0m\n\u001b[1;32m----> 4\u001b[1;33m         \u001b[1;32mif\u001b[0m\u001b[1;33m(\u001b[0m\u001b[1;33m(\u001b[0m\u001b[0ma\u001b[0m\u001b[1;33m[\u001b[0m\u001b[0mi\u001b[0m\u001b[1;33m-\u001b[0m\u001b[1;36m1\u001b[0m\u001b[1;33m]\u001b[0m\u001b[1;33m%\u001b[0m\u001b[1;36m2\u001b[0m\u001b[1;33m==\u001b[0m\u001b[1;36m0\u001b[0m\u001b[1;33m)\u001b[0m\u001b[1;33m)\u001b[0m\u001b[1;32mand\u001b[0m\u001b[1;33m(\u001b[0m\u001b[1;33m(\u001b[0m\u001b[0ma\u001b[0m\u001b[1;33m[\u001b[0m\u001b[0mi\u001b[0m\u001b[1;33m+\u001b[0m\u001b[1;36m1\u001b[0m\u001b[1;33m]\u001b[0m\u001b[1;33m%\u001b[0m\u001b[1;36m2\u001b[0m\u001b[1;33m==\u001b[0m\u001b[1;36m0\u001b[0m\u001b[1;33m)\u001b[0m\u001b[1;33m)\u001b[0m\u001b[1;33m:\u001b[0m\u001b[1;33m\u001b[0m\u001b[1;33m\u001b[0m\u001b[0m\n\u001b[0m\u001b[0;32m      5\u001b[0m                 \u001b[0mprint\u001b[0m\u001b[1;33m(\u001b[0m\u001b[0ma\u001b[0m\u001b[1;33m[\u001b[0m\u001b[0mi\u001b[0m\u001b[1;33m]\u001b[0m\u001b[1;33m)\u001b[0m\u001b[1;33m\u001b[0m\u001b[1;33m\u001b[0m\u001b[0m\n\u001b[0;32m      6\u001b[0m                 \u001b[0mi\u001b[0m\u001b[1;33m=\u001b[0m\u001b[0mi\u001b[0m\u001b[1;33m+\u001b[0m\u001b[1;36m1\u001b[0m\u001b[1;33m\u001b[0m\u001b[1;33m\u001b[0m\u001b[0m\n",
      "\u001b[1;31mIndexError\u001b[0m: list index out of range"
     ]
    }
   ],
   "source": [
    "def lse6(a):\n",
    "\n",
    "    for i in range(len(a)):\n",
    "        if((a[i-1]%2==0))and((a[i+1]%2==0)):\n",
    "                print(a[i])\n",
    "                i=i+1\n",
    "a=[1,2,3,4,5,6,7,8,9,13,14,15,16,17,18,22,24]\n",
    "lse6(a)"
   ]
  },
  {
   "cell_type": "code",
   "execution_count": null,
   "metadata": {},
   "outputs": [],
   "source": []
  }
 ],
 "metadata": {
  "kernelspec": {
   "display_name": "Python 3",
   "language": "python",
   "name": "python3"
  },
  "language_info": {
   "codemirror_mode": {
    "name": "ipython",
    "version": 3
   },
   "file_extension": ".py",
   "mimetype": "text/x-python",
   "name": "python",
   "nbconvert_exporter": "python",
   "pygments_lexer": "ipython3",
   "version": "3.7.3"
  }
 },
 "nbformat": 4,
 "nbformat_minor": 2
}
